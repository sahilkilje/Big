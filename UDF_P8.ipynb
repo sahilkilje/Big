{
  "nbformat": 4,
  "nbformat_minor": 0,
  "metadata": {
    "colab": {
      "provenance": []
    },
    "kernelspec": {
      "name": "python3",
      "display_name": "Python 3"
    },
    "language_info": {
      "name": "python"
    }
  },
  "cells": [
    {
      "cell_type": "code",
      "execution_count": null,
      "metadata": {
        "colab": {
          "base_uri": "https://localhost:8080/"
        },
        "id": "osSy53qoh86f",
        "outputId": "e0c01324-f9d8-4bd6-e562-54ded3430423"
      },
      "outputs": [
        {
          "output_type": "stream",
          "name": "stdout",
          "text": [
            "Looking in indexes: https://pypi.org/simple, https://us-python.pkg.dev/colab-wheels/public/simple/\n",
            "Requirement already satisfied: pyspark in /usr/local/lib/python3.7/dist-packages (3.3.1)\n",
            "Requirement already satisfied: py4j==0.10.9.5 in /usr/local/lib/python3.7/dist-packages (from pyspark) (0.10.9.5)\n"
          ]
        }
      ],
      "source": [
        "pip install pyspark"
      ]
    },
    {
      "cell_type": "code",
      "source": [
        "import pyspark\n",
        "from pyspark.sql import SparkSession"
      ],
      "metadata": {
        "id": "YGBADoeztQW1"
      },
      "execution_count": null,
      "outputs": []
    },
    {
      "cell_type": "code",
      "source": [
        "spark=SparkSession.builder.appName('SparkUDF').getOrCreate()\n",
        "\n",
        "columns = [\"Seqno\",\"Name\"]\n",
        "data=[(\"1\", \"sumit borhade\"),\n",
        "      (\"2\", \"sahil kilje\"),\n",
        "      (\"3\", \"jagraj singh\"),\n",
        "      (\"4\", \"prashant dhavale\"),\n",
        "      (\"5\", \"yash jadhav\")]\n",
        "\n",
        "df=spark.createDataFrame(data=data, schema=columns)\n",
        "\n",
        "df.show(truncate=False)"
      ],
      "metadata": {
        "colab": {
          "base_uri": "https://localhost:8080/"
        },
        "id": "Ebc812RHrV29",
        "outputId": "d901d162-cad3-401d-8a76-d8508b633710"
      },
      "execution_count": null,
      "outputs": [
        {
          "output_type": "stream",
          "name": "stdout",
          "text": [
            "+-----+----------------+\n",
            "|Seqno|Name            |\n",
            "+-----+----------------+\n",
            "|1    |sumit borhade   |\n",
            "|2    |sahil kilje     |\n",
            "|3    |jagraj singh    |\n",
            "|4    |prashant dhavale|\n",
            "|5    |yash jadhav     |\n",
            "+-----+----------------+\n",
            "\n"
          ]
        }
      ]
    },
    {
      "cell_type": "code",
      "source": [
        "def convertCase(str):\n",
        "  resStr=\"\"\n",
        "  arr=str.split(\" \")\n",
        "  for x in arr:\n",
        "    resStr=resStr + x[0:1].upper() + x[1:len(x)] + \" \"\n",
        "  return resStr"
      ],
      "metadata": {
        "id": "J9MD-3vntXcH"
      },
      "execution_count": null,
      "outputs": []
    },
    {
      "cell_type": "code",
      "source": [
        "\"\"\" Converting function to UDF \"\"\"\n",
        "from pyspark.sql.functions import udf\n",
        "from pyspark.sql.types import StructType, IntegerType, StringType\n",
        "\n",
        "convertUDF = udf(lambda z: convertCase(z), StringType())"
      ],
      "metadata": {
        "id": "VFZygAUnuZF_"
      },
      "execution_count": null,
      "outputs": []
    },
    {
      "cell_type": "code",
      "source": [
        "\"\"\" Converting function to UDF\n",
        "StringType() is by default hence not required \"\"\"\n",
        "\n",
        "convertUDF = udf(lambda z: convertCase(z))"
      ],
      "metadata": {
        "id": "sURkYH0Au_G-"
      },
      "execution_count": null,
      "outputs": []
    },
    {
      "cell_type": "code",
      "source": [
        "from pyspark.sql.functions import *\n",
        "\n",
        "df.select(col(\"Seqno\"), \\\n",
        "          convertUDF(col(\"Name\")).alias(\"Name\")) \\\n",
        "          .show(truncate=False)"
      ],
      "metadata": {
        "colab": {
          "base_uri": "https://localhost:8080/"
        },
        "id": "t6JVFGUovZHs",
        "outputId": "a94005fa-fbe1-44a9-b821-63c01468e828"
      },
      "execution_count": null,
      "outputs": [
        {
          "output_type": "stream",
          "name": "stdout",
          "text": [
            "+-----+-----------------+\n",
            "|Seqno|Name             |\n",
            "+-----+-----------------+\n",
            "|1    |Sumit Borhade    |\n",
            "|2    |Sahil Kilje      |\n",
            "|3    |Jagraj Singh     |\n",
            "|4    |Prashant Dhavale |\n",
            "|5    |Yash Jadhav      |\n",
            "+-----+-----------------+\n",
            "\n"
          ]
        }
      ]
    },
    {
      "cell_type": "code",
      "source": [
        "def upperCase(str):\n",
        "  return str.upper()"
      ],
      "metadata": {
        "id": "1uBX5OgXvyd4"
      },
      "execution_count": null,
      "outputs": []
    },
    {
      "cell_type": "code",
      "source": [
        "upperCaseUDF= udf(lambda z:upperCase(z),StringType())\n",
        "\n",
        "df.withColumn(\"Cureated Name\", upperCaseUDF(col(\"Name\"))).show(truncate=False)"
      ],
      "metadata": {
        "colab": {
          "base_uri": "https://localhost:8080/"
        },
        "id": "uhyvn946v-CG",
        "outputId": "f5187ae0-3ef3-4a2b-8547-7646cd7c66ee"
      },
      "execution_count": null,
      "outputs": [
        {
          "output_type": "stream",
          "name": "stdout",
          "text": [
            "+-----+----------------+----------------+\n",
            "|Seqno|Name            |Cureated Name   |\n",
            "+-----+----------------+----------------+\n",
            "|1    |sumit borhade   |SUMIT BORHADE   |\n",
            "|2    |sahil kilje     |SAHIL KILJE     |\n",
            "|3    |jagraj singh    |JAGRAJ SINGH    |\n",
            "|4    |prashant dhavale|PRASHANT DHAVALE|\n",
            "|5    |yash jadhav     |YASH JADHAV     |\n",
            "+-----+----------------+----------------+\n",
            "\n"
          ]
        }
      ]
    },
    {
      "cell_type": "code",
      "source": [
        "\"\"\" Using UDF on SQL \"\"\"\n",
        "\n",
        "spark.udf.register(\"convertUDF\", convertCase, StringType())\n",
        "\n",
        "df.createOrReplaceTempView(\"NAME_TABLE\")\n",
        "\n",
        "spark.sql(\"select Seqno, convertUDF(Name) as Name from NAME_TABLE\").show(truncate=False)"
      ],
      "metadata": {
        "colab": {
          "base_uri": "https://localhost:8080/"
        },
        "id": "kNjpyE_RxXMo",
        "outputId": "104aed8b-a7d6-4f28-c16c-a82859a53534"
      },
      "execution_count": null,
      "outputs": [
        {
          "output_type": "stream",
          "name": "stdout",
          "text": [
            "+-----+-----------------+\n",
            "|Seqno|Name             |\n",
            "+-----+-----------------+\n",
            "|1    |Sumit Borhade    |\n",
            "|2    |Sahil Kilje      |\n",
            "|3    |Jagraj Singh     |\n",
            "|4    |Prashant Dhavale |\n",
            "|5    |Yash Jadhav      |\n",
            "+-----+-----------------+\n",
            "\n"
          ]
        }
      ]
    },
    {
      "cell_type": "code",
      "source": [
        "spark.sql(\"select Seqno, convertUDF(Name) as Name from NAME_TABLE \" + \\\n",
        "          \"where Name is not null and convertUDF(Name) like '%Sahil%'\").show(truncate=False)"
      ],
      "metadata": {
        "colab": {
          "base_uri": "https://localhost:8080/"
        },
        "id": "aIJjgFteyKKW",
        "outputId": "6cc16521-4e3f-468b-8b72-8628710ca43e"
      },
      "execution_count": null,
      "outputs": [
        {
          "output_type": "stream",
          "name": "stdout",
          "text": [
            "+-----+------------+\n",
            "|Seqno|Name        |\n",
            "+-----+------------+\n",
            "|2    |Sahil Kilje |\n",
            "+-----+------------+\n",
            "\n"
          ]
        }
      ]
    },
    {
      "cell_type": "code",
      "source": [
        "\"\"\" null check \"\"\"\n",
        "\n",
        "columns = [\"Seqno\",\"Name\"]\n",
        "data = [(\"1\", \"sumit borhade\"),\n",
        "    (\"2\", \"sahil kilje\"),\n",
        "    (\"3\", \"jagraj singh\"),\n",
        "    (\"6\",None)]"
      ],
      "metadata": {
        "id": "XW_sUOsrzKh3"
      },
      "execution_count": null,
      "outputs": []
    },
    {
      "cell_type": "code",
      "source": [
        "df2 = spark.createDataFrame(data=data,schema=columns)\n",
        "df2.show(truncate=False)\n",
        "df2.createOrReplaceTempView(\"NAME_TABLE2\")"
      ],
      "metadata": {
        "colab": {
          "base_uri": "https://localhost:8080/"
        },
        "id": "3lA2UKp90Bfe",
        "outputId": "8f5fc4b4-8a42-4c3c-f387-cd26e271ec0a"
      },
      "execution_count": null,
      "outputs": [
        {
          "output_type": "stream",
          "name": "stdout",
          "text": [
            "+-----+-------------+\n",
            "|Seqno|Name         |\n",
            "+-----+-------------+\n",
            "|1    |sumit borhade|\n",
            "|2    |sahil kilje  |\n",
            "|3    |jagraj singh |\n",
            "|6    |null         |\n",
            "+-----+-------------+\n",
            "\n"
          ]
        }
      ]
    },
    {
      "cell_type": "code",
      "source": [
        "spark.udf.register(\"_nullsafeUDF\", lambda str: convertCase(str) if not str is None else \"\" , StringType())"
      ],
      "metadata": {
        "colab": {
          "base_uri": "https://localhost:8080/"
        },
        "id": "mgENQsLI0IXG",
        "outputId": "51347d4c-c987-408b-d09f-b0f049ebdaa1"
      },
      "execution_count": null,
      "outputs": [
        {
          "output_type": "execute_result",
          "data": {
            "text/plain": [
              "<function __main__.<lambda>(str)>"
            ]
          },
          "metadata": {},
          "execution_count": 18
        }
      ]
    },
    {
      "cell_type": "code",
      "source": [
        "spark.sql(\"select _nullsafeUDF(Name) from NAME_TABLE2\").show(truncate=False)"
      ],
      "metadata": {
        "colab": {
          "base_uri": "https://localhost:8080/"
        },
        "id": "12A1uY3O0KmV",
        "outputId": "ddab062b-18ad-4293-dee5-d9bf3414ad87"
      },
      "execution_count": null,
      "outputs": [
        {
          "output_type": "stream",
          "name": "stdout",
          "text": [
            "+------------------+\n",
            "|_nullsafeUDF(Name)|\n",
            "+------------------+\n",
            "|Sumit Borhade     |\n",
            "|Sahil Kilje       |\n",
            "|Jagraj Singh      |\n",
            "|                  |\n",
            "+------------------+\n",
            "\n"
          ]
        }
      ]
    },
    {
      "cell_type": "code",
      "source": [
        "spark.sql(\"select Seqno, _nullsafeUDF(Name) as Name from NAME_TABLE2 \" + \\\n",
        "          \" where Name is not null and _nullsafeUDF(Name) like '%Tra%'\").show(truncate=False)"
      ],
      "metadata": {
        "colab": {
          "base_uri": "https://localhost:8080/"
        },
        "id": "wyrVcHpq0NkF",
        "outputId": "87aaad9d-4460-40e3-aa4b-d414308da47f"
      },
      "execution_count": null,
      "outputs": [
        {
          "output_type": "stream",
          "name": "stdout",
          "text": [
            "+-----+----+\n",
            "|Seqno|Name|\n",
            "+-----+----+\n",
            "+-----+----+\n",
            "\n"
          ]
        }
      ]
    }
  ]
}