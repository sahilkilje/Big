{
  "nbformat": 4,
  "nbformat_minor": 0,
  "metadata": {
    "colab": {
      "provenance": []
    },
    "kernelspec": {
      "name": "python3",
      "display_name": "Python 3"
    },
    "language_info": {
      "name": "python"
    }
  },
  "cells": [
    {
      "cell_type": "code",
      "execution_count": 1,
      "metadata": {
        "colab": {
          "base_uri": "https://localhost:8080/"
        },
        "id": "03wh_G_SL7b5",
        "outputId": "34515c2a-f96d-4e4b-bea9-2b0bcdde1078"
      },
      "outputs": [
        {
          "output_type": "stream",
          "name": "stdout",
          "text": [
            "Looking in indexes: https://pypi.org/simple, https://us-python.pkg.dev/colab-wheels/public/simple/\n",
            "Collecting pyspark\n",
            "  Downloading pyspark-3.3.1.tar.gz (281.4 MB)\n",
            "\u001b[K     |████████████████████████████████| 281.4 MB 37 kB/s \n",
            "\u001b[?25hCollecting py4j==0.10.9.5\n",
            "  Downloading py4j-0.10.9.5-py2.py3-none-any.whl (199 kB)\n",
            "\u001b[K     |████████████████████████████████| 199 kB 44.1 MB/s \n",
            "\u001b[?25hBuilding wheels for collected packages: pyspark\n",
            "  Building wheel for pyspark (setup.py) ... \u001b[?25l\u001b[?25hdone\n",
            "  Created wheel for pyspark: filename=pyspark-3.3.1-py2.py3-none-any.whl size=281845514 sha256=a4f4a30d996785c03b9a43e013b78e120ad1cf2e908e44541fff6eb8faaa1987\n",
            "  Stored in directory: /root/.cache/pip/wheels/42/59/f5/79a5bf931714dcd201b26025347785f087370a10a3329a899c\n",
            "Successfully built pyspark\n",
            "Installing collected packages: py4j, pyspark\n",
            "Successfully installed py4j-0.10.9.5 pyspark-3.3.1\n"
          ]
        }
      ],
      "source": [
        "pip install pyspark"
      ]
    },
    {
      "cell_type": "code",
      "source": [
        "from pyspark.sql import SparkSession\n",
        "spark = SparkSession.builder.master(\"local[*]\").getOrCreate()"
      ],
      "metadata": {
        "id": "apFjKTUtMVQc"
      },
      "execution_count": 2,
      "outputs": []
    },
    {
      "cell_type": "code",
      "source": [
        "from pyspark import SparkContext\n",
        "sc = SparkContext.getOrCreate()"
      ],
      "metadata": {
        "id": "qsdT4pqZMetb"
      },
      "execution_count": 3,
      "outputs": []
    },
    {
      "cell_type": "code",
      "source": [
        "Words=sc.textFile(\"/content/input.txt\")\n"
      ],
      "metadata": {
        "id": "OZN8-PLCMihj"
      },
      "execution_count": 4,
      "outputs": []
    },
    {
      "cell_type": "code",
      "source": [
        "Words.collect()"
      ],
      "metadata": {
        "colab": {
          "base_uri": "https://localhost:8080/"
        },
        "id": "l6jzW9o-NSiE",
        "outputId": "6fee3c82-4a20-4a44-e64f-79d1f72172e9"
      },
      "execution_count": 6,
      "outputs": [
        {
          "output_type": "execute_result",
          "data": {
            "text/plain": [
              "[\"Python is an interpreted high-level general-purpose programming language. Python's design philosophy emphasizes code readability with its notable use of significant indentation. Its language constructs as well as its object-oriented approach aim to help programmers write clear, logical code for small and large-scale projects.\",\n",
              " 'Python is dynamically-typed and garbage-collected. It supports multiple programming paradigms, including structured (particularly, procedural), object-oriented and functional programming. Python is often described as a \"batteries included\" language due to its comprehensive standard library.',\n",
              " 'Guido van Rossum began working on Python in the late 1980s, as a successor to the ABC programming language, and first released it in 1991 as Python 0.9.0.[32] Python 2.0 was released in 2000 and introduced new features, such as list comprehensions and a garbage collection system using reference counting and was discontinued with version 2.7.18 in 2020.[33] Python 3.0 was released in 2008 and was a major revision of the language that is not completely backward-compatible and much Python 2 code does not run unmodified on Python ']"
            ]
          },
          "metadata": {},
          "execution_count": 6
        }
      ]
    },
    {
      "cell_type": "code",
      "source": [
        "WordsCount=Words.flatMap(lambda line: line.split(\" \")).map(lambda word: (word, 1))\n",
        "WordsCount.count()"
      ],
      "metadata": {
        "colab": {
          "base_uri": "https://localhost:8080/"
        },
        "id": "dmSm-0bKONbC",
        "outputId": "3cca2863-67a1-4614-e466-0134c899ff2f"
      },
      "execution_count": 7,
      "outputs": [
        {
          "output_type": "execute_result",
          "data": {
            "text/plain": [
              "165"
            ]
          },
          "metadata": {},
          "execution_count": 7
        }
      ]
    },
    {
      "cell_type": "code",
      "source": [
        "WordsCount.collect()"
      ],
      "metadata": {
        "colab": {
          "base_uri": "https://localhost:8080/"
        },
        "id": "4g4p1KlDOdcC",
        "outputId": "6c9e0196-bb6e-4db6-9a98-b1882fed2f0b"
      },
      "execution_count": 8,
      "outputs": [
        {
          "output_type": "execute_result",
          "data": {
            "text/plain": [
              "[('Python', 1),\n",
              " ('is', 1),\n",
              " ('an', 1),\n",
              " ('interpreted', 1),\n",
              " ('high-level', 1),\n",
              " ('general-purpose', 1),\n",
              " ('programming', 1),\n",
              " ('language.', 1),\n",
              " (\"Python's\", 1),\n",
              " ('design', 1),\n",
              " ('philosophy', 1),\n",
              " ('emphasizes', 1),\n",
              " ('code', 1),\n",
              " ('readability', 1),\n",
              " ('with', 1),\n",
              " ('its', 1),\n",
              " ('notable', 1),\n",
              " ('use', 1),\n",
              " ('of', 1),\n",
              " ('significant', 1),\n",
              " ('indentation.', 1),\n",
              " ('Its', 1),\n",
              " ('language', 1),\n",
              " ('constructs', 1),\n",
              " ('as', 1),\n",
              " ('well', 1),\n",
              " ('as', 1),\n",
              " ('its', 1),\n",
              " ('object-oriented', 1),\n",
              " ('approach', 1),\n",
              " ('aim', 1),\n",
              " ('to', 1),\n",
              " ('help', 1),\n",
              " ('programmers', 1),\n",
              " ('write', 1),\n",
              " ('clear,', 1),\n",
              " ('logical', 1),\n",
              " ('code', 1),\n",
              " ('for', 1),\n",
              " ('small', 1),\n",
              " ('and', 1),\n",
              " ('large-scale', 1),\n",
              " ('projects.', 1),\n",
              " ('Python', 1),\n",
              " ('is', 1),\n",
              " ('dynamically-typed', 1),\n",
              " ('and', 1),\n",
              " ('garbage-collected.', 1),\n",
              " ('It', 1),\n",
              " ('supports', 1),\n",
              " ('multiple', 1),\n",
              " ('programming', 1),\n",
              " ('paradigms,', 1),\n",
              " ('including', 1),\n",
              " ('structured', 1),\n",
              " ('(particularly,', 1),\n",
              " ('procedural),', 1),\n",
              " ('object-oriented', 1),\n",
              " ('and', 1),\n",
              " ('functional', 1),\n",
              " ('programming.', 1),\n",
              " ('Python', 1),\n",
              " ('is', 1),\n",
              " ('often', 1),\n",
              " ('described', 1),\n",
              " ('as', 1),\n",
              " ('a', 1),\n",
              " ('\"batteries', 1),\n",
              " ('included\"', 1),\n",
              " ('language', 1),\n",
              " ('due', 1),\n",
              " ('to', 1),\n",
              " ('its', 1),\n",
              " ('comprehensive', 1),\n",
              " ('standard', 1),\n",
              " ('library.', 1),\n",
              " ('Guido', 1),\n",
              " ('van', 1),\n",
              " ('Rossum', 1),\n",
              " ('began', 1),\n",
              " ('working', 1),\n",
              " ('on', 1),\n",
              " ('Python', 1),\n",
              " ('in', 1),\n",
              " ('the', 1),\n",
              " ('late', 1),\n",
              " ('1980s,', 1),\n",
              " ('as', 1),\n",
              " ('a', 1),\n",
              " ('successor', 1),\n",
              " ('to', 1),\n",
              " ('the', 1),\n",
              " ('ABC', 1),\n",
              " ('programming', 1),\n",
              " ('language,', 1),\n",
              " ('and', 1),\n",
              " ('first', 1),\n",
              " ('released', 1),\n",
              " ('it', 1),\n",
              " ('in', 1),\n",
              " ('1991', 1),\n",
              " ('as', 1),\n",
              " ('Python', 1),\n",
              " ('0.9.0.[32]', 1),\n",
              " ('Python', 1),\n",
              " ('2.0', 1),\n",
              " ('was', 1),\n",
              " ('released', 1),\n",
              " ('in', 1),\n",
              " ('2000', 1),\n",
              " ('and', 1),\n",
              " ('introduced', 1),\n",
              " ('new', 1),\n",
              " ('features,', 1),\n",
              " ('such', 1),\n",
              " ('as', 1),\n",
              " ('list', 1),\n",
              " ('comprehensions', 1),\n",
              " ('and', 1),\n",
              " ('a', 1),\n",
              " ('garbage', 1),\n",
              " ('collection', 1),\n",
              " ('system', 1),\n",
              " ('using', 1),\n",
              " ('reference', 1),\n",
              " ('counting', 1),\n",
              " ('and', 1),\n",
              " ('was', 1),\n",
              " ('discontinued', 1),\n",
              " ('with', 1),\n",
              " ('version', 1),\n",
              " ('2.7.18', 1),\n",
              " ('in', 1),\n",
              " ('2020.[33]', 1),\n",
              " ('Python', 1),\n",
              " ('3.0', 1),\n",
              " ('was', 1),\n",
              " ('released', 1),\n",
              " ('in', 1),\n",
              " ('2008', 1),\n",
              " ('and', 1),\n",
              " ('was', 1),\n",
              " ('a', 1),\n",
              " ('major', 1),\n",
              " ('revision', 1),\n",
              " ('of', 1),\n",
              " ('the', 1),\n",
              " ('language', 1),\n",
              " ('that', 1),\n",
              " ('is', 1),\n",
              " ('not', 1),\n",
              " ('completely', 1),\n",
              " ('backward-compatible', 1),\n",
              " ('and', 1),\n",
              " ('much', 1),\n",
              " ('Python', 1),\n",
              " ('2', 1),\n",
              " ('code', 1),\n",
              " ('does', 1),\n",
              " ('not', 1),\n",
              " ('run', 1),\n",
              " ('unmodified', 1),\n",
              " ('on', 1),\n",
              " ('Python', 1),\n",
              " ('', 1)]"
            ]
          },
          "metadata": {},
          "execution_count": 8
        }
      ]
    },
    {
      "cell_type": "code",
      "source": [
        "DistinctWordsCount=WordsCount.reduceByKey(lambda a,b: a+b)\n",
        "DistinctWordsCount.count()"
      ],
      "metadata": {
        "colab": {
          "base_uri": "https://localhost:8080/"
        },
        "id": "s9lyi9rBOkOK",
        "outputId": "ac034c34-ba55-4728-f0d3-3045ce9b7d75"
      },
      "execution_count": 9,
      "outputs": [
        {
          "output_type": "execute_result",
          "data": {
            "text/plain": [
              "112"
            ]
          },
          "metadata": {},
          "execution_count": 9
        }
      ]
    },
    {
      "cell_type": "code",
      "source": [
        "DistinctWordsCount.collect()"
      ],
      "metadata": {
        "colab": {
          "base_uri": "https://localhost:8080/"
        },
        "id": "NeW0HXaUOvZS",
        "outputId": "9d6e2b07-81fa-4551-ec25-50eb41415b3d"
      },
      "execution_count": 10,
      "outputs": [
        {
          "output_type": "execute_result",
          "data": {
            "text/plain": [
              "[('Python', 9),\n",
              " ('is', 4),\n",
              " ('an', 1),\n",
              " ('interpreted', 1),\n",
              " ('high-level', 1),\n",
              " ('general-purpose', 1),\n",
              " ('programming', 3),\n",
              " ('design', 1),\n",
              " ('philosophy', 1),\n",
              " ('readability', 1),\n",
              " ('notable', 1),\n",
              " ('use', 1),\n",
              " ('of', 2),\n",
              " ('significant', 1),\n",
              " ('Its', 1),\n",
              " ('language', 3),\n",
              " ('as', 6),\n",
              " ('object-oriented', 2),\n",
              " ('approach', 1),\n",
              " ('help', 1),\n",
              " ('programmers', 1),\n",
              " ('logical', 1),\n",
              " ('It', 1),\n",
              " ('supports', 1),\n",
              " ('multiple', 1),\n",
              " ('paradigms,', 1),\n",
              " ('functional', 1),\n",
              " ('programming.', 1),\n",
              " ('\"batteries', 1),\n",
              " ('included\"', 1),\n",
              " ('due', 1),\n",
              " ('comprehensive', 1),\n",
              " ('library.', 1),\n",
              " ('Guido', 1),\n",
              " ('Rossum', 1),\n",
              " ('working', 1),\n",
              " ('in', 5),\n",
              " ('late', 1),\n",
              " ('successor', 1),\n",
              " ('ABC', 1),\n",
              " ('1991', 1),\n",
              " ('0.9.0.[32]', 1),\n",
              " ('2.0', 1),\n",
              " ('was', 4),\n",
              " ('introduced', 1),\n",
              " ('new', 1),\n",
              " ('comprehensions', 1),\n",
              " ('garbage', 1),\n",
              " ('collection', 1),\n",
              " ('using', 1),\n",
              " ('reference', 1),\n",
              " ('counting', 1),\n",
              " ('discontinued', 1),\n",
              " ('version', 1),\n",
              " ('2020.[33]', 1),\n",
              " ('major', 1),\n",
              " ('revision', 1),\n",
              " ('backward-compatible', 1),\n",
              " ('run', 1),\n",
              " ('', 1),\n",
              " ('language.', 1),\n",
              " (\"Python's\", 1),\n",
              " ('emphasizes', 1),\n",
              " ('code', 3),\n",
              " ('with', 2),\n",
              " ('its', 3),\n",
              " ('indentation.', 1),\n",
              " ('constructs', 1),\n",
              " ('well', 1),\n",
              " ('aim', 1),\n",
              " ('to', 3),\n",
              " ('write', 1),\n",
              " ('clear,', 1),\n",
              " ('for', 1),\n",
              " ('small', 1),\n",
              " ('and', 9),\n",
              " ('large-scale', 1),\n",
              " ('projects.', 1),\n",
              " ('dynamically-typed', 1),\n",
              " ('garbage-collected.', 1),\n",
              " ('including', 1),\n",
              " ('structured', 1),\n",
              " ('(particularly,', 1),\n",
              " ('procedural),', 1),\n",
              " ('often', 1),\n",
              " ('described', 1),\n",
              " ('a', 4),\n",
              " ('standard', 1),\n",
              " ('van', 1),\n",
              " ('began', 1),\n",
              " ('on', 2),\n",
              " ('the', 3),\n",
              " ('1980s,', 1),\n",
              " ('language,', 1),\n",
              " ('first', 1),\n",
              " ('released', 3),\n",
              " ('it', 1),\n",
              " ('2000', 1),\n",
              " ('features,', 1),\n",
              " ('such', 1),\n",
              " ('list', 1),\n",
              " ('system', 1),\n",
              " ('2.7.18', 1),\n",
              " ('3.0', 1),\n",
              " ('2008', 1),\n",
              " ('that', 1),\n",
              " ('not', 2),\n",
              " ('completely', 1),\n",
              " ('much', 1),\n",
              " ('2', 1),\n",
              " ('does', 1),\n",
              " ('unmodified', 1)]"
            ]
          },
          "metadata": {},
          "execution_count": 10
        }
      ]
    },
    {
      "cell_type": "code",
      "source": [
        "SortedWordsCount=DistinctWordsCount.map(lambda a: (a[1], a[0])).sortByKey()\n",
        "SortedWordsCount.top(5)"
      ],
      "metadata": {
        "colab": {
          "base_uri": "https://localhost:8080/"
        },
        "id": "JuzoRNCePCaK",
        "outputId": "88c45dbb-1852-4362-90ea-b81b01bd5e79"
      },
      "execution_count": 11,
      "outputs": [
        {
          "output_type": "execute_result",
          "data": {
            "text/plain": [
              "[(9, 'and'), (9, 'Python'), (6, 'as'), (5, 'in'), (4, 'was')]"
            ]
          },
          "metadata": {},
          "execution_count": 11
        }
      ]
    },
    {
      "cell_type": "code",
      "source": [
        "SortedWordsCount.collect()"
      ],
      "metadata": {
        "colab": {
          "base_uri": "https://localhost:8080/"
        },
        "id": "6vvP0pDNPGmy",
        "outputId": "c5fb0881-2995-4740-d655-b1618aa90803"
      },
      "execution_count": 12,
      "outputs": [
        {
          "output_type": "execute_result",
          "data": {
            "text/plain": [
              "[(1, 'an'),\n",
              " (1, 'interpreted'),\n",
              " (1, 'high-level'),\n",
              " (1, 'general-purpose'),\n",
              " (1, 'design'),\n",
              " (1, 'philosophy'),\n",
              " (1, 'readability'),\n",
              " (1, 'notable'),\n",
              " (1, 'use'),\n",
              " (1, 'significant'),\n",
              " (1, 'Its'),\n",
              " (1, 'approach'),\n",
              " (1, 'help'),\n",
              " (1, 'programmers'),\n",
              " (1, 'logical'),\n",
              " (1, 'It'),\n",
              " (1, 'supports'),\n",
              " (1, 'multiple'),\n",
              " (1, 'paradigms,'),\n",
              " (1, 'functional'),\n",
              " (1, 'programming.'),\n",
              " (1, '\"batteries'),\n",
              " (1, 'included\"'),\n",
              " (1, 'due'),\n",
              " (1, 'comprehensive'),\n",
              " (1, 'library.'),\n",
              " (1, 'Guido'),\n",
              " (1, 'Rossum'),\n",
              " (1, 'working'),\n",
              " (1, 'late'),\n",
              " (1, 'successor'),\n",
              " (1, 'ABC'),\n",
              " (1, '1991'),\n",
              " (1, '0.9.0.[32]'),\n",
              " (1, '2.0'),\n",
              " (1, 'introduced'),\n",
              " (1, 'new'),\n",
              " (1, 'comprehensions'),\n",
              " (1, 'garbage'),\n",
              " (1, 'collection'),\n",
              " (1, 'using'),\n",
              " (1, 'reference'),\n",
              " (1, 'counting'),\n",
              " (1, 'discontinued'),\n",
              " (1, 'version'),\n",
              " (1, '2020.[33]'),\n",
              " (1, 'major'),\n",
              " (1, 'revision'),\n",
              " (1, 'backward-compatible'),\n",
              " (1, 'run'),\n",
              " (1, ''),\n",
              " (1, 'language.'),\n",
              " (1, \"Python's\"),\n",
              " (1, 'emphasizes'),\n",
              " (1, 'indentation.'),\n",
              " (1, 'constructs'),\n",
              " (1, 'well'),\n",
              " (1, 'aim'),\n",
              " (1, 'write'),\n",
              " (1, 'clear,'),\n",
              " (1, 'for'),\n",
              " (1, 'small'),\n",
              " (1, 'large-scale'),\n",
              " (1, 'projects.'),\n",
              " (1, 'dynamically-typed'),\n",
              " (1, 'garbage-collected.'),\n",
              " (1, 'including'),\n",
              " (1, 'structured'),\n",
              " (1, '(particularly,'),\n",
              " (1, 'procedural),'),\n",
              " (1, 'often'),\n",
              " (1, 'described'),\n",
              " (1, 'standard'),\n",
              " (1, 'van'),\n",
              " (1, 'began'),\n",
              " (1, '1980s,'),\n",
              " (1, 'language,'),\n",
              " (1, 'first'),\n",
              " (1, 'it'),\n",
              " (1, '2000'),\n",
              " (1, 'features,'),\n",
              " (1, 'such'),\n",
              " (1, 'list'),\n",
              " (1, 'system'),\n",
              " (1, '2.7.18'),\n",
              " (1, '3.0'),\n",
              " (1, '2008'),\n",
              " (1, 'that'),\n",
              " (1, 'completely'),\n",
              " (1, 'much'),\n",
              " (1, '2'),\n",
              " (1, 'does'),\n",
              " (1, 'unmodified'),\n",
              " (2, 'of'),\n",
              " (2, 'object-oriented'),\n",
              " (2, 'with'),\n",
              " (2, 'on'),\n",
              " (2, 'not'),\n",
              " (3, 'programming'),\n",
              " (3, 'language'),\n",
              " (3, 'code'),\n",
              " (3, 'its'),\n",
              " (3, 'to'),\n",
              " (3, 'the'),\n",
              " (3, 'released'),\n",
              " (4, 'is'),\n",
              " (4, 'was'),\n",
              " (4, 'a'),\n",
              " (5, 'in'),\n",
              " (6, 'as'),\n",
              " (9, 'Python'),\n",
              " (9, 'and')]"
            ]
          },
          "metadata": {},
          "execution_count": 12
        }
      ]
    },
    {
      "cell_type": "code",
      "source": [
        "SortedWordsCount.top(20)"
      ],
      "metadata": {
        "colab": {
          "base_uri": "https://localhost:8080/"
        },
        "id": "_pjYk69qPS3a",
        "outputId": "fb084c3f-c5e5-4338-8caf-1ac1f5482a0d"
      },
      "execution_count": 13,
      "outputs": [
        {
          "output_type": "execute_result",
          "data": {
            "text/plain": [
              "[(9, 'and'),\n",
              " (9, 'Python'),\n",
              " (6, 'as'),\n",
              " (5, 'in'),\n",
              " (4, 'was'),\n",
              " (4, 'is'),\n",
              " (4, 'a'),\n",
              " (3, 'to'),\n",
              " (3, 'the'),\n",
              " (3, 'released'),\n",
              " (3, 'programming'),\n",
              " (3, 'language'),\n",
              " (3, 'its'),\n",
              " (3, 'code'),\n",
              " (2, 'with'),\n",
              " (2, 'on'),\n",
              " (2, 'of'),\n",
              " (2, 'object-oriented'),\n",
              " (2, 'not'),\n",
              " (1, 'write')]"
            ]
          },
          "metadata": {},
          "execution_count": 13
        }
      ]
    }
  ]
}